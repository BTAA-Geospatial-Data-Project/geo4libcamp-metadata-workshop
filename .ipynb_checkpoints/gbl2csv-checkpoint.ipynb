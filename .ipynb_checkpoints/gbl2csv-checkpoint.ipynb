{
 "cells": [
  {
   "cell_type": "markdown",
   "metadata": {},
   "source": [
    "# GeoBlacklight JSON to CSV"
   ]
  },
  {
   "cell_type": "markdown",
   "metadata": {},
   "source": [
    "### This script converts multiple GeoBlacklight JSONs to a single CSV file"
   ]
  },
  {
   "cell_type": "code",
   "execution_count": 1,
   "metadata": {},
   "outputs": [],
   "source": [
    "import csv\n",
    "import json\n",
    "import os\n",
    "import sys"
   ]
  },
  {
   "cell_type": "markdown",
   "metadata": {},
   "source": [
    "### change this file path to point to the folder that contains all the jsons"
   ]
  },
  {
   "cell_type": "code",
   "execution_count": 2,
   "metadata": {},
   "outputs": [],
   "source": [
    "json_path = r\"/Users/majew030/GitHUB/geo4libcamp-metadata-workshop/02a-01\""
   ]
  },
  {
   "cell_type": "markdown",
   "metadata": {},
   "source": [
    "### change this filename to be the desired name of the output csv. It will write into the directory that contains this Python script"
   ]
  },
  {
   "cell_type": "code",
   "execution_count": 3,
   "metadata": {},
   "outputs": [],
   "source": [
    "csv_out_file = \"02a-01.csv\""
   ]
  },
  {
   "cell_type": "code",
   "execution_count": 4,
   "metadata": {},
   "outputs": [],
   "source": [
    "first = True\n",
    "headers = []\n",
    "f = csv.writer(open(csv_out_file, \"w\", newline=''))"
   ]
  },
  {
   "cell_type": "code",
   "execution_count": 5,
   "metadata": {},
   "outputs": [],
   "source": [
    "for filename in os.listdir(json_path):\n",
    "    #print(filename)\n",
    "    if filename.endswith(\".json\"):\n",
    "        values = []\n",
    "        json_file_open = open(json_path+\"/\"+filename, 'rb')\n",
    "        data = json_file_open.read().decode('utf-8', errors='ignore')\n",
    "        #print(data)\n",
    "        loaded = json.loads(data)\n",
    "        #print(loaded)\n",
    "        if first:\n",
    "            for x in loaded:\n",
    "                headers.append(x)\n",
    "            f.writerow(headers)\n",
    "            first = False\n",
    "        for k in headers:\n",
    "            for key in loaded:\n",
    "                multiple = []\n",
    "                if key == k:\n",
    "                    if type(loaded[key]) == str:\n",
    "                        values.append(loaded[key])\n",
    "                    elif type(loaded[key]) == int or type(loaded[key]) == float:\n",
    "                        values.append(str(loaded[key]))\n",
    "                    elif type(loaded[key]) == list:\n",
    "                        for y in loaded[key]:\n",
    "                            multiple.append(y)\n",
    "                        values.append(\"\".join(multiple))\n",
    "                    else:\n",
    "                        print(\"something else\")\n",
    "        f.writerow(values)\n",
    "    json_file_open.close()"
   ]
  },
  {
   "cell_type": "code",
   "execution_count": null,
   "metadata": {},
   "outputs": [],
   "source": []
  }
 ],
 "metadata": {
  "kernelspec": {
   "display_name": "Python 3",
   "language": "python",
   "name": "python3"
  },
  "language_info": {
   "codemirror_mode": {
    "name": "ipython",
    "version": 3
   },
   "file_extension": ".py",
   "mimetype": "text/x-python",
   "name": "python",
   "nbconvert_exporter": "python",
   "pygments_lexer": "ipython3",
   "version": "3.7.6"
  }
 },
 "nbformat": 4,
 "nbformat_minor": 2
}
